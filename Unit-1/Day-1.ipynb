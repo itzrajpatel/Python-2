{
 "cells": [
  {
   "cell_type": "code",
   "execution_count": 7,
   "metadata": {},
   "outputs": [
    {
     "name": "stdout",
     "output_type": "stream",
     "text": [
      "0    1\n",
      "1    7\n",
      "2    2\n",
      "dtype: int64\n",
      "<class 'pandas.core.series.Series'>\n",
      "1\n",
      "7\n",
      "2\n"
     ]
    },
    {
     "ename": "KeyError",
     "evalue": "3",
     "output_type": "error",
     "traceback": [
      "\u001b[1;31m---------------------------------------------------------------------------\u001b[0m",
      "\u001b[1;31mValueError\u001b[0m                                Traceback (most recent call last)",
      "\u001b[1;32mC:\\ProgramData\\Anaconda3\\lib\\site-packages\\pandas\\core\\indexes\\range.py\u001b[0m in \u001b[0;36mget_loc\u001b[1;34m(self, key, method, tolerance)\u001b[0m\n\u001b[0;32m    354\u001b[0m                 \u001b[1;32mtry\u001b[0m\u001b[1;33m:\u001b[0m\u001b[1;33m\u001b[0m\u001b[1;33m\u001b[0m\u001b[0m\n\u001b[1;32m--> 355\u001b[1;33m                     \u001b[1;32mreturn\u001b[0m \u001b[0mself\u001b[0m\u001b[1;33m.\u001b[0m\u001b[0m_range\u001b[0m\u001b[1;33m.\u001b[0m\u001b[0mindex\u001b[0m\u001b[1;33m(\u001b[0m\u001b[0mnew_key\u001b[0m\u001b[1;33m)\u001b[0m\u001b[1;33m\u001b[0m\u001b[1;33m\u001b[0m\u001b[0m\n\u001b[0m\u001b[0;32m    356\u001b[0m                 \u001b[1;32mexcept\u001b[0m \u001b[0mValueError\u001b[0m \u001b[1;32mas\u001b[0m \u001b[0merr\u001b[0m\u001b[1;33m:\u001b[0m\u001b[1;33m\u001b[0m\u001b[1;33m\u001b[0m\u001b[0m\n",
      "\u001b[1;31mValueError\u001b[0m: 3 is not in range",
      "\nThe above exception was the direct cause of the following exception:\n",
      "\u001b[1;31mKeyError\u001b[0m                                  Traceback (most recent call last)",
      "\u001b[1;32m<ipython-input-7-321b0f564700>\u001b[0m in \u001b[0;36m<module>\u001b[1;34m\u001b[0m\n\u001b[0;32m      8\u001b[0m \u001b[0mprint\u001b[0m\u001b[1;33m(\u001b[0m\u001b[0mmyvar\u001b[0m\u001b[1;33m[\u001b[0m\u001b[1;36m1\u001b[0m\u001b[1;33m]\u001b[0m\u001b[1;33m)\u001b[0m\u001b[1;33m\u001b[0m\u001b[1;33m\u001b[0m\u001b[0m\n\u001b[0;32m      9\u001b[0m \u001b[0mprint\u001b[0m\u001b[1;33m(\u001b[0m\u001b[0mmyvar\u001b[0m\u001b[1;33m[\u001b[0m\u001b[1;36m2\u001b[0m\u001b[1;33m]\u001b[0m\u001b[1;33m)\u001b[0m\u001b[1;33m\u001b[0m\u001b[1;33m\u001b[0m\u001b[0m\n\u001b[1;32m---> 10\u001b[1;33m \u001b[0mprint\u001b[0m\u001b[1;33m(\u001b[0m\u001b[0mmyvar\u001b[0m\u001b[1;33m[\u001b[0m\u001b[1;36m3\u001b[0m\u001b[1;33m]\u001b[0m\u001b[1;33m)\u001b[0m\u001b[1;33m\u001b[0m\u001b[1;33m\u001b[0m\u001b[0m\n\u001b[0m",
      "\u001b[1;32mC:\\ProgramData\\Anaconda3\\lib\\site-packages\\pandas\\core\\series.py\u001b[0m in \u001b[0;36m__getitem__\u001b[1;34m(self, key)\u001b[0m\n\u001b[0;32m    880\u001b[0m \u001b[1;33m\u001b[0m\u001b[0m\n\u001b[0;32m    881\u001b[0m         \u001b[1;32melif\u001b[0m \u001b[0mkey_is_scalar\u001b[0m\u001b[1;33m:\u001b[0m\u001b[1;33m\u001b[0m\u001b[1;33m\u001b[0m\u001b[0m\n\u001b[1;32m--> 882\u001b[1;33m             \u001b[1;32mreturn\u001b[0m \u001b[0mself\u001b[0m\u001b[1;33m.\u001b[0m\u001b[0m_get_value\u001b[0m\u001b[1;33m(\u001b[0m\u001b[0mkey\u001b[0m\u001b[1;33m)\u001b[0m\u001b[1;33m\u001b[0m\u001b[1;33m\u001b[0m\u001b[0m\n\u001b[0m\u001b[0;32m    883\u001b[0m \u001b[1;33m\u001b[0m\u001b[0m\n\u001b[0;32m    884\u001b[0m         \u001b[1;32mif\u001b[0m \u001b[0mis_hashable\u001b[0m\u001b[1;33m(\u001b[0m\u001b[0mkey\u001b[0m\u001b[1;33m)\u001b[0m\u001b[1;33m:\u001b[0m\u001b[1;33m\u001b[0m\u001b[1;33m\u001b[0m\u001b[0m\n",
      "\u001b[1;32mC:\\ProgramData\\Anaconda3\\lib\\site-packages\\pandas\\core\\series.py\u001b[0m in \u001b[0;36m_get_value\u001b[1;34m(self, label, takeable)\u001b[0m\n\u001b[0;32m    987\u001b[0m \u001b[1;33m\u001b[0m\u001b[0m\n\u001b[0;32m    988\u001b[0m         \u001b[1;31m# Similar to Index.get_value, but we do not fall back to positional\u001b[0m\u001b[1;33m\u001b[0m\u001b[1;33m\u001b[0m\u001b[1;33m\u001b[0m\u001b[0m\n\u001b[1;32m--> 989\u001b[1;33m         \u001b[0mloc\u001b[0m \u001b[1;33m=\u001b[0m \u001b[0mself\u001b[0m\u001b[1;33m.\u001b[0m\u001b[0mindex\u001b[0m\u001b[1;33m.\u001b[0m\u001b[0mget_loc\u001b[0m\u001b[1;33m(\u001b[0m\u001b[0mlabel\u001b[0m\u001b[1;33m)\u001b[0m\u001b[1;33m\u001b[0m\u001b[1;33m\u001b[0m\u001b[0m\n\u001b[0m\u001b[0;32m    990\u001b[0m         \u001b[1;32mreturn\u001b[0m \u001b[0mself\u001b[0m\u001b[1;33m.\u001b[0m\u001b[0mindex\u001b[0m\u001b[1;33m.\u001b[0m\u001b[0m_get_values_for_loc\u001b[0m\u001b[1;33m(\u001b[0m\u001b[0mself\u001b[0m\u001b[1;33m,\u001b[0m \u001b[0mloc\u001b[0m\u001b[1;33m,\u001b[0m \u001b[0mlabel\u001b[0m\u001b[1;33m)\u001b[0m\u001b[1;33m\u001b[0m\u001b[1;33m\u001b[0m\u001b[0m\n\u001b[0;32m    991\u001b[0m \u001b[1;33m\u001b[0m\u001b[0m\n",
      "\u001b[1;32mC:\\ProgramData\\Anaconda3\\lib\\site-packages\\pandas\\core\\indexes\\range.py\u001b[0m in \u001b[0;36mget_loc\u001b[1;34m(self, key, method, tolerance)\u001b[0m\n\u001b[0;32m    355\u001b[0m                     \u001b[1;32mreturn\u001b[0m \u001b[0mself\u001b[0m\u001b[1;33m.\u001b[0m\u001b[0m_range\u001b[0m\u001b[1;33m.\u001b[0m\u001b[0mindex\u001b[0m\u001b[1;33m(\u001b[0m\u001b[0mnew_key\u001b[0m\u001b[1;33m)\u001b[0m\u001b[1;33m\u001b[0m\u001b[1;33m\u001b[0m\u001b[0m\n\u001b[0;32m    356\u001b[0m                 \u001b[1;32mexcept\u001b[0m \u001b[0mValueError\u001b[0m \u001b[1;32mas\u001b[0m \u001b[0merr\u001b[0m\u001b[1;33m:\u001b[0m\u001b[1;33m\u001b[0m\u001b[1;33m\u001b[0m\u001b[0m\n\u001b[1;32m--> 357\u001b[1;33m                     \u001b[1;32mraise\u001b[0m \u001b[0mKeyError\u001b[0m\u001b[1;33m(\u001b[0m\u001b[0mkey\u001b[0m\u001b[1;33m)\u001b[0m \u001b[1;32mfrom\u001b[0m \u001b[0merr\u001b[0m\u001b[1;33m\u001b[0m\u001b[1;33m\u001b[0m\u001b[0m\n\u001b[0m\u001b[0;32m    358\u001b[0m             \u001b[1;32mraise\u001b[0m \u001b[0mKeyError\u001b[0m\u001b[1;33m(\u001b[0m\u001b[0mkey\u001b[0m\u001b[1;33m)\u001b[0m\u001b[1;33m\u001b[0m\u001b[1;33m\u001b[0m\u001b[0m\n\u001b[0;32m    359\u001b[0m         \u001b[1;32mreturn\u001b[0m \u001b[0msuper\u001b[0m\u001b[1;33m(\u001b[0m\u001b[1;33m)\u001b[0m\u001b[1;33m.\u001b[0m\u001b[0mget_loc\u001b[0m\u001b[1;33m(\u001b[0m\u001b[0mkey\u001b[0m\u001b[1;33m,\u001b[0m \u001b[0mmethod\u001b[0m\u001b[1;33m=\u001b[0m\u001b[0mmethod\u001b[0m\u001b[1;33m,\u001b[0m \u001b[0mtolerance\u001b[0m\u001b[1;33m=\u001b[0m\u001b[0mtolerance\u001b[0m\u001b[1;33m)\u001b[0m\u001b[1;33m\u001b[0m\u001b[1;33m\u001b[0m\u001b[0m\n",
      "\u001b[1;31mKeyError\u001b[0m: 3"
     ]
    }
   ],
   "source": [
    "import pandas as pd\n",
    "\n",
    "a = [1,7,2]\n",
    "myvar = pd.Series(a)\n",
    "print(myvar)\n",
    "print(type(myvar))\n",
    "print(myvar[0]) # Output: \"1\"\n",
    "print(myvar[1]) # Output: \"7\"\n",
    "print(myvar[2]) # Output: \"2\"\n",
    "print(myvar[3]) # Output: Error"
   ]
  },
  {
   "cell_type": "code",
   "execution_count": 8,
   "metadata": {},
   "outputs": [
    {
     "name": "stdout",
     "output_type": "stream",
     "text": [
      "x    1\n",
      "y    7\n",
      "z    2\n",
      "dtype: int64\n"
     ]
    }
   ],
   "source": [
    "import pandas as pd\n",
    "\n",
    "a = [1,7,2]\n",
    "myvar = pd.Series(a, index=['x','y','z']) # index as str values\n",
    "print(myvar)"
   ]
  },
  {
   "cell_type": "code",
   "execution_count": 10,
   "metadata": {},
   "outputs": [
    {
     "name": "stdout",
     "output_type": "stream",
     "text": [
      "x    1\n",
      "y    7\n",
      "z    2\n",
      "dtype: int64\n",
      "1\n",
      "7\n",
      "1\n"
     ]
    }
   ],
   "source": [
    "import pandas as pd\n",
    "\n",
    "a = [1,7,2]\n",
    "myvar = pd.Series(a, index=['x','y','z'])\n",
    "print(myvar)\n",
    "print(myvar[0]) # Output: \"1\"\n",
    "print(myvar[1]) # Output: \"7\"\n",
    "print(myvar['x']) # Output: \"1\""
   ]
  },
  {
   "cell_type": "code",
   "execution_count": 14,
   "metadata": {},
   "outputs": [
    {
     "name": "stdout",
     "output_type": "stream",
     "text": [
      "10    1\n",
      "20    7\n",
      "30    2\n",
      "dtype: int64\n",
      "1\n",
      "7\n"
     ]
    },
    {
     "ename": "KeyError",
     "evalue": "0",
     "output_type": "error",
     "traceback": [
      "\u001b[1;31m---------------------------------------------------------------------------\u001b[0m",
      "\u001b[1;31mKeyError\u001b[0m                                  Traceback (most recent call last)",
      "\u001b[1;32mC:\\ProgramData\\Anaconda3\\lib\\site-packages\\pandas\\core\\indexes\\base.py\u001b[0m in \u001b[0;36mget_loc\u001b[1;34m(self, key, method, tolerance)\u001b[0m\n\u001b[0;32m   2894\u001b[0m             \u001b[1;32mtry\u001b[0m\u001b[1;33m:\u001b[0m\u001b[1;33m\u001b[0m\u001b[1;33m\u001b[0m\u001b[0m\n\u001b[1;32m-> 2895\u001b[1;33m                 \u001b[1;32mreturn\u001b[0m \u001b[0mself\u001b[0m\u001b[1;33m.\u001b[0m\u001b[0m_engine\u001b[0m\u001b[1;33m.\u001b[0m\u001b[0mget_loc\u001b[0m\u001b[1;33m(\u001b[0m\u001b[0mcasted_key\u001b[0m\u001b[1;33m)\u001b[0m\u001b[1;33m\u001b[0m\u001b[1;33m\u001b[0m\u001b[0m\n\u001b[0m\u001b[0;32m   2896\u001b[0m             \u001b[1;32mexcept\u001b[0m \u001b[0mKeyError\u001b[0m \u001b[1;32mas\u001b[0m \u001b[0merr\u001b[0m\u001b[1;33m:\u001b[0m\u001b[1;33m\u001b[0m\u001b[1;33m\u001b[0m\u001b[0m\n",
      "\u001b[1;32mpandas\\_libs\\index.pyx\u001b[0m in \u001b[0;36mpandas._libs.index.IndexEngine.get_loc\u001b[1;34m()\u001b[0m\n",
      "\u001b[1;32mpandas\\_libs\\index.pyx\u001b[0m in \u001b[0;36mpandas._libs.index.IndexEngine.get_loc\u001b[1;34m()\u001b[0m\n",
      "\u001b[1;32mpandas\\_libs\\hashtable_class_helper.pxi\u001b[0m in \u001b[0;36mpandas._libs.hashtable.Int64HashTable.get_item\u001b[1;34m()\u001b[0m\n",
      "\u001b[1;32mpandas\\_libs\\hashtable_class_helper.pxi\u001b[0m in \u001b[0;36mpandas._libs.hashtable.Int64HashTable.get_item\u001b[1;34m()\u001b[0m\n",
      "\u001b[1;31mKeyError\u001b[0m: 0",
      "\nThe above exception was the direct cause of the following exception:\n",
      "\u001b[1;31mKeyError\u001b[0m                                  Traceback (most recent call last)",
      "\u001b[1;32m<ipython-input-14-d1f3e16d8a2e>\u001b[0m in \u001b[0;36m<module>\u001b[1;34m\u001b[0m\n\u001b[0;32m      6\u001b[0m \u001b[0mprint\u001b[0m\u001b[1;33m(\u001b[0m\u001b[0mmyvar\u001b[0m\u001b[1;33m[\u001b[0m\u001b[1;36m10\u001b[0m\u001b[1;33m]\u001b[0m\u001b[1;33m)\u001b[0m \u001b[1;31m# Output: \"1\"\u001b[0m\u001b[1;33m\u001b[0m\u001b[1;33m\u001b[0m\u001b[0m\n\u001b[0;32m      7\u001b[0m \u001b[0mprint\u001b[0m\u001b[1;33m(\u001b[0m\u001b[0mmyvar\u001b[0m\u001b[1;33m[\u001b[0m\u001b[1;36m20\u001b[0m\u001b[1;33m]\u001b[0m\u001b[1;33m)\u001b[0m \u001b[1;31m# Output: \"7\"\u001b[0m\u001b[1;33m\u001b[0m\u001b[1;33m\u001b[0m\u001b[0m\n\u001b[1;32m----> 8\u001b[1;33m \u001b[0mprint\u001b[0m\u001b[1;33m(\u001b[0m\u001b[0mmyvar\u001b[0m\u001b[1;33m[\u001b[0m\u001b[1;36m0\u001b[0m\u001b[1;33m]\u001b[0m\u001b[1;33m)\u001b[0m \u001b[1;31m# Output: \"1\"\u001b[0m\u001b[1;33m\u001b[0m\u001b[1;33m\u001b[0m\u001b[0m\n\u001b[0m",
      "\u001b[1;32mC:\\ProgramData\\Anaconda3\\lib\\site-packages\\pandas\\core\\series.py\u001b[0m in \u001b[0;36m__getitem__\u001b[1;34m(self, key)\u001b[0m\n\u001b[0;32m    880\u001b[0m \u001b[1;33m\u001b[0m\u001b[0m\n\u001b[0;32m    881\u001b[0m         \u001b[1;32melif\u001b[0m \u001b[0mkey_is_scalar\u001b[0m\u001b[1;33m:\u001b[0m\u001b[1;33m\u001b[0m\u001b[1;33m\u001b[0m\u001b[0m\n\u001b[1;32m--> 882\u001b[1;33m             \u001b[1;32mreturn\u001b[0m \u001b[0mself\u001b[0m\u001b[1;33m.\u001b[0m\u001b[0m_get_value\u001b[0m\u001b[1;33m(\u001b[0m\u001b[0mkey\u001b[0m\u001b[1;33m)\u001b[0m\u001b[1;33m\u001b[0m\u001b[1;33m\u001b[0m\u001b[0m\n\u001b[0m\u001b[0;32m    883\u001b[0m \u001b[1;33m\u001b[0m\u001b[0m\n\u001b[0;32m    884\u001b[0m         \u001b[1;32mif\u001b[0m \u001b[0mis_hashable\u001b[0m\u001b[1;33m(\u001b[0m\u001b[0mkey\u001b[0m\u001b[1;33m)\u001b[0m\u001b[1;33m:\u001b[0m\u001b[1;33m\u001b[0m\u001b[1;33m\u001b[0m\u001b[0m\n",
      "\u001b[1;32mC:\\ProgramData\\Anaconda3\\lib\\site-packages\\pandas\\core\\series.py\u001b[0m in \u001b[0;36m_get_value\u001b[1;34m(self, label, takeable)\u001b[0m\n\u001b[0;32m    987\u001b[0m \u001b[1;33m\u001b[0m\u001b[0m\n\u001b[0;32m    988\u001b[0m         \u001b[1;31m# Similar to Index.get_value, but we do not fall back to positional\u001b[0m\u001b[1;33m\u001b[0m\u001b[1;33m\u001b[0m\u001b[1;33m\u001b[0m\u001b[0m\n\u001b[1;32m--> 989\u001b[1;33m         \u001b[0mloc\u001b[0m \u001b[1;33m=\u001b[0m \u001b[0mself\u001b[0m\u001b[1;33m.\u001b[0m\u001b[0mindex\u001b[0m\u001b[1;33m.\u001b[0m\u001b[0mget_loc\u001b[0m\u001b[1;33m(\u001b[0m\u001b[0mlabel\u001b[0m\u001b[1;33m)\u001b[0m\u001b[1;33m\u001b[0m\u001b[1;33m\u001b[0m\u001b[0m\n\u001b[0m\u001b[0;32m    990\u001b[0m         \u001b[1;32mreturn\u001b[0m \u001b[0mself\u001b[0m\u001b[1;33m.\u001b[0m\u001b[0mindex\u001b[0m\u001b[1;33m.\u001b[0m\u001b[0m_get_values_for_loc\u001b[0m\u001b[1;33m(\u001b[0m\u001b[0mself\u001b[0m\u001b[1;33m,\u001b[0m \u001b[0mloc\u001b[0m\u001b[1;33m,\u001b[0m \u001b[0mlabel\u001b[0m\u001b[1;33m)\u001b[0m\u001b[1;33m\u001b[0m\u001b[1;33m\u001b[0m\u001b[0m\n\u001b[0;32m    991\u001b[0m \u001b[1;33m\u001b[0m\u001b[0m\n",
      "\u001b[1;32mC:\\ProgramData\\Anaconda3\\lib\\site-packages\\pandas\\core\\indexes\\base.py\u001b[0m in \u001b[0;36mget_loc\u001b[1;34m(self, key, method, tolerance)\u001b[0m\n\u001b[0;32m   2895\u001b[0m                 \u001b[1;32mreturn\u001b[0m \u001b[0mself\u001b[0m\u001b[1;33m.\u001b[0m\u001b[0m_engine\u001b[0m\u001b[1;33m.\u001b[0m\u001b[0mget_loc\u001b[0m\u001b[1;33m(\u001b[0m\u001b[0mcasted_key\u001b[0m\u001b[1;33m)\u001b[0m\u001b[1;33m\u001b[0m\u001b[1;33m\u001b[0m\u001b[0m\n\u001b[0;32m   2896\u001b[0m             \u001b[1;32mexcept\u001b[0m \u001b[0mKeyError\u001b[0m \u001b[1;32mas\u001b[0m \u001b[0merr\u001b[0m\u001b[1;33m:\u001b[0m\u001b[1;33m\u001b[0m\u001b[1;33m\u001b[0m\u001b[0m\n\u001b[1;32m-> 2897\u001b[1;33m                 \u001b[1;32mraise\u001b[0m \u001b[0mKeyError\u001b[0m\u001b[1;33m(\u001b[0m\u001b[0mkey\u001b[0m\u001b[1;33m)\u001b[0m \u001b[1;32mfrom\u001b[0m \u001b[0merr\u001b[0m\u001b[1;33m\u001b[0m\u001b[1;33m\u001b[0m\u001b[0m\n\u001b[0m\u001b[0;32m   2898\u001b[0m \u001b[1;33m\u001b[0m\u001b[0m\n\u001b[0;32m   2899\u001b[0m         \u001b[1;32mif\u001b[0m \u001b[0mtolerance\u001b[0m \u001b[1;32mis\u001b[0m \u001b[1;32mnot\u001b[0m \u001b[1;32mNone\u001b[0m\u001b[1;33m:\u001b[0m\u001b[1;33m\u001b[0m\u001b[1;33m\u001b[0m\u001b[0m\n",
      "\u001b[1;31mKeyError\u001b[0m: 0"
     ]
    }
   ],
   "source": [
    "import pandas as pd\n",
    "\n",
    "a=[1,7,2]\n",
    "myvar=pd.Series(a, index=[10,20,30]) # index as int values\n",
    "print(myvar)\n",
    "print(myvar[10]) # Output: \"1\"\n",
    "print(myvar[20]) # Output: \"7\"\n",
    "print(myvar[0]) # Output: Error"
   ]
  },
  {
   "cell_type": "code",
   "execution_count": 17,
   "metadata": {},
   "outputs": [
    {
     "name": "stdout",
     "output_type": "stream",
     "text": [
      "0    1.4\n",
      "1    2.0\n",
      "2    3.0\n",
      "3    4.0\n",
      "4    5.0\n",
      "dtype: float64\n",
      "1.4\n",
      "2.0\n",
      "4.0\n"
     ]
    }
   ],
   "source": [
    "import pandas as pd\n",
    "\n",
    "a=[1.4,2,3,4,5]\n",
    "myvar=pd.Series(a)\n",
    "print(myvar)\n",
    "print(myvar[0]) # Output: \"1.4\"\n",
    "print(myvar[1]) # Output: \"2.0\"\n",
    "print(myvar[3]) # Output: \"4.0\""
   ]
  },
  {
   "cell_type": "code",
   "execution_count": 18,
   "metadata": {},
   "outputs": [
    {
     "name": "stdout",
     "output_type": "stream",
     "text": [
      "day1    400\n",
      "day2    360\n",
      "day3    390\n",
      "dtype: int64\n"
     ]
    }
   ],
   "source": [
    "import pandas as pd\n",
    "\n",
    "calories={'day1':400, 'day2':360, 'day3':390}\n",
    "myvar=pd.Series(calories)\n",
    "print(myvar)"
   ]
  },
  {
   "cell_type": "code",
   "execution_count": 23,
   "metadata": {},
   "outputs": [
    {
     "name": "stdout",
     "output_type": "stream",
     "text": [
      "day1    400\n",
      "day2    360\n",
      "dtype: int64\n"
     ]
    }
   ],
   "source": [
    "import pandas as pd\n",
    "\n",
    "calories={'day1':400, 'day2':360, 'day3':390}\n",
    "myvar=pd.Series(calories, index=['day1','day2'])\n",
    "print(myvar)"
   ]
  },
  {
   "cell_type": "code",
   "execution_count": 26,
   "metadata": {},
   "outputs": [
    {
     "name": "stdout",
     "output_type": "stream",
     "text": [
      "Zulfi     50\n",
      "Jenish    60\n",
      "Kishor    70\n",
      "Raj       80\n",
      "dtype: int64\n"
     ]
    }
   ],
   "source": [
    "import pandas as pd\n",
    "\n",
    "student_name=['Zulfi','Jenish','Kishor','Raj']\n",
    "marks=[50,60,70,80]\n",
    "myvar=pd.Series(marks, index=student_name)\n",
    "print(myvar)"
   ]
  },
  {
   "cell_type": "code",
   "execution_count": 28,
   "metadata": {},
   "outputs": [
    {
     "name": "stdout",
     "output_type": "stream",
     "text": [
      "Zulfi     50\n",
      "Jenish    60\n",
      "Kishor    70\n",
      "Raj       80\n",
      "Name: Student Result, dtype: int64\n"
     ]
    }
   ],
   "source": [
    "import pandas as pd\n",
    "\n",
    "student_name=['Zulfi','Jenish','Kishor','Raj']\n",
    "marks=[50,60,70,80]\n",
    "myvar=pd.Series(marks, index=student_name, name='Student Result')\n",
    "print(myvar)"
   ]
  },
  {
   "cell_type": "code",
   "execution_count": 37,
   "metadata": {},
   "outputs": [
    {
     "name": "stdout",
     "output_type": "stream",
     "text": [
      "Zulfi     55\n",
      "Kishor    60\n",
      "Raj       80\n",
      "Name: Result, dtype: int64\n",
      "3\n",
      "Result\n",
      "Index(['Zulfi', 'Kishor', 'Raj'], dtype='object')\n",
      "[55 60 80]\n",
      "<class 'numpy.ndarray'>\n",
      "True\n",
      "False\n"
     ]
    }
   ],
   "source": [
    "import pandas as pd\n",
    "\n",
    "marks={'Zulfi':55, 'Kishor':60, 'Raj':80}\n",
    "myvar=pd.Series(marks, name='Result')\n",
    "print(myvar)\n",
    "print(myvar.size) # Output: 3\n",
    "print(myvar.name) # Output: \"Result\"\n",
    "print(myvar.index) # Output: \"Index(['Ram', 'Shyam', 'Geeta'], dtype='object')\"\n",
    "print(myvar.values) # Output: \"[55 60 80]\"\n",
    "print(type(myvar.values)) # Output: \"<class 'numpy.ndarray'>\"\n",
    "print(myvar.is_unique) # Output: \"True\"\n",
    "print(pd.Series([55,22,33,44,55]).is_unique) # Output: \"False\""
   ]
  },
  {
   "cell_type": "code",
   "execution_count": 6,
   "metadata": {},
   "outputs": [
    {
     "name": "stdout",
     "output_type": "stream",
     "text": [
      "     Subscribers gained\n",
      "0                    48\n",
      "1                    57\n",
      "2                    40\n",
      "3                    43\n",
      "4                    44\n",
      "..                  ...\n",
      "360                 231\n",
      "361                 226\n",
      "362                 155\n",
      "363                 144\n",
      "364                 172\n",
      "\n",
      "[365 rows x 1 columns]\n",
      "<class 'pandas.core.frame.DataFrame'>\n"
     ]
    }
   ],
   "source": [
    "import pandas as pd\n",
    "\n",
    "subs = pd.read_csv(\"subs.csv\")\n",
    "print(subs)\n",
    "print(type(subs))"
   ]
  },
  {
   "cell_type": "code",
   "execution_count": 5,
   "metadata": {},
   "outputs": [
    {
     "name": "stdout",
     "output_type": "stream",
     "text": [
      "0       48\n",
      "1       57\n",
      "2       40\n",
      "3       43\n",
      "4       44\n",
      "      ... \n",
      "360    231\n",
      "361    226\n",
      "362    155\n",
      "363    144\n",
      "364    172\n",
      "Name: Subscribers gained, Length: 365, dtype: int64\n",
      "<class 'pandas.core.series.Series'>\n"
     ]
    }
   ],
   "source": [
    "import pandas as pd\n",
    "\n",
    "df = pd.read_csv(\"subs.csv\")\n",
    "subs = df.squeeze()\n",
    "print(subs)\n",
    "print(type(subs))"
   ]
  },
  {
   "cell_type": "code",
   "execution_count": 1,
   "metadata": {},
   "outputs": [
    {
     "name": "stdout",
     "output_type": "stream",
     "text": [
      "                                     movie              lead\n",
      "0                 Uri: The Surgical Strike     Vicky Kaushal\n",
      "1                            Battalion 609       Vicky Ahuja\n",
      "2     The Accidental Prime Minister (film)       Anupam Kher\n",
      "3                          Why Cheat India     Emraan Hashmi\n",
      "4                          Evening Shadows  Mona Ambegaonkar\n",
      "...                                    ...               ...\n",
      "1495                Hum Tumhare Hain Sanam    Shah Rukh Khan\n",
      "1496                   Aankhen (2002 film)  Amitabh Bachchan\n",
      "1497                       Saathiya (film)      Vivek Oberoi\n",
      "1498                        Company (film)        Ajay Devgn\n",
      "1499                  Awara Paagal Deewana      Akshay Kumar\n",
      "\n",
      "[1500 rows x 2 columns]\n",
      "<class 'pandas.core.frame.DataFrame'>\n"
     ]
    }
   ],
   "source": [
    "import pandas as pd\n",
    "\n",
    "movies = pd.read_csv(\"bollywood.csv\")\n",
    "print(movies)\n",
    "print(type(movies))"
   ]
  },
  {
   "cell_type": "code",
   "execution_count": 6,
   "metadata": {},
   "outputs": [
    {
     "name": "stdout",
     "output_type": "stream",
     "text": [
      "                                     movie              lead\n",
      "0                 Uri: The Surgical Strike     Vicky Kaushal\n",
      "1                            Battalion 609       Vicky Ahuja\n",
      "2     The Accidental Prime Minister (film)       Anupam Kher\n",
      "3                          Why Cheat India     Emraan Hashmi\n",
      "4                          Evening Shadows  Mona Ambegaonkar\n",
      "...                                    ...               ...\n",
      "1495                Hum Tumhare Hain Sanam    Shah Rukh Khan\n",
      "1496                   Aankhen (2002 film)  Amitabh Bachchan\n",
      "1497                       Saathiya (film)      Vivek Oberoi\n",
      "1498                        Company (film)        Ajay Devgn\n",
      "1499                  Awara Paagal Deewana      Akshay Kumar\n",
      "\n",
      "[1500 rows x 2 columns]\n",
      "<class 'pandas.core.frame.DataFrame'>\n"
     ]
    }
   ],
   "source": [
    "import pandas as pd\n",
    "\n",
    "df = pd.read_csv(\"bollywood.csv\") # If there are 2 columns, then it will not convert it into series.\n",
    "movies = df.squeeze()\n",
    "print(movies)\n",
    "print(type(movies))"
   ]
  },
  {
   "cell_type": "code",
   "execution_count": 12,
   "metadata": {},
   "outputs": [
    {
     "name": "stdout",
     "output_type": "stream",
     "text": [
      "       Subscribers gained\n",
      "count          365.000000\n",
      "mean           135.643836\n",
      "std             62.675023\n",
      "min             33.000000\n",
      "25%             88.000000\n",
      "50%            123.000000\n",
      "75%            177.000000\n",
      "max            396.000000\n"
     ]
    }
   ],
   "source": [
    "import pandas as pd\n",
    "\n",
    "subs = pd.read_csv(\"subs.csv\")\n",
    "print(subs.describe())"
   ]
  },
  {
   "cell_type": "code",
   "execution_count": 17,
   "metadata": {},
   "outputs": [
    {
     "name": "stdout",
     "output_type": "stream",
     "text": [
      "33\n",
      "396\n",
      "135.64383561643837\n",
      "123.0\n",
      "49510\n"
     ]
    }
   ],
   "source": [
    "import pandas as pd\n",
    "\n",
    "subs = pd.read_csv(\"subs.csv\", squeeze=True)\n",
    "print(subs.min())\n",
    "print(subs.max())\n",
    "print(subs.mean())\n",
    "print(subs.median())\n",
    "print(subs.sum())"
   ]
  },
  {
   "cell_type": "code",
   "execution_count": 7,
   "metadata": {},
   "outputs": [
    {
     "name": "stdout",
     "output_type": "stream",
     "text": [
      "movie\n",
      "Uri: The Surgical Strike                   Vicky Kaushal\n",
      "Battalion 609                                Vicky Ahuja\n",
      "The Accidental Prime Minister (film)         Anupam Kher\n",
      "Why Cheat India                            Emraan Hashmi\n",
      "Evening Shadows                         Mona Ambegaonkar\n",
      "                                              ...       \n",
      "Hum Tumhare Hain Sanam                    Shah Rukh Khan\n",
      "Aankhen (2002 film)                     Amitabh Bachchan\n",
      "Saathiya (film)                             Vivek Oberoi\n",
      "Company (film)                                Ajay Devgn\n",
      "Awara Paagal Deewana                        Akshay Kumar\n",
      "Name: lead, Length: 1500, dtype: object\n",
      "<class 'pandas.core.series.Series'>\n"
     ]
    }
   ],
   "source": [
    "# If there are 2 columns, then it will not convert it into series. But by using \"index_col=movie' it will convert into series\"\n",
    "\n",
    "import pandas as pd\n",
    "\n",
    "df=pd.read_csv(\"bollywood.csv\", index_col='movie')\n",
    "movies = df.squeeze()\n",
    "print(movies)\n",
    "print(type(movies))"
   ]
  },
  {
   "cell_type": "code",
   "execution_count": 7,
   "metadata": {},
   "outputs": [
    {
     "name": "stdout",
     "output_type": "stream",
     "text": [
      "                                                  lead\n",
      "movie                                                 \n",
      "Uri: The Surgical Strike                 Vicky Kaushal\n",
      "Battalion 609                              Vicky Ahuja\n",
      "The Accidental Prime Minister (film)       Anupam Kher\n",
      "Why Cheat India                          Emraan Hashmi\n",
      "Evening Shadows                       Mona Ambegaonkar\n"
     ]
    }
   ],
   "source": [
    "# Once you have run the csv file then you don't have to read it again. But if you restart kernel then you have to read the file.\n",
    "\n",
    "import pandas as pd\n",
    "\n",
    "print(movies.head()) # By default it will give first 5 movies"
   ]
  },
  {
   "cell_type": "code",
   "execution_count": 8,
   "metadata": {},
   "outputs": [
    {
     "name": "stdout",
     "output_type": "stream",
     "text": [
      "                                    lead\n",
      "movie                                   \n",
      "Hum Tumhare Hain Sanam    Shah Rukh Khan\n",
      "Aankhen (2002 film)     Amitabh Bachchan\n",
      "Saathiya (film)             Vivek Oberoi\n",
      "Company (film)                Ajay Devgn\n",
      "Awara Paagal Deewana        Akshay Kumar\n"
     ]
    }
   ],
   "source": [
    "import pandas as pd\n",
    "\n",
    "print(movies.tail()) # By default it will give last 5 movies"
   ]
  },
  {
   "cell_type": "code",
   "execution_count": 9,
   "metadata": {},
   "outputs": [
    {
     "name": "stdout",
     "output_type": "stream",
     "text": [
      "                                                      lead\n",
      "movie                                                     \n",
      "Uri: The Surgical Strike                     Vicky Kaushal\n",
      "Battalion 609                                  Vicky Ahuja\n",
      "The Accidental Prime Minister (film)           Anupam Kher\n",
      "Why Cheat India                              Emraan Hashmi\n",
      "Evening Shadows                           Mona Ambegaonkar\n",
      "Soni (film)                           Geetika Vidya Ohlyan\n",
      "Fraud Saiyaan                                 Arshad Warsi\n",
      "Bombairiya                                    Radhika Apte\n",
      "Manikarnika: The Queen of Jhansi            Kangana Ranaut\n",
      "Thackeray (film)                       Nawazuddin Siddiqui\n"
     ]
    }
   ],
   "source": [
    "import pandas as pd\n",
    "\n",
    "print(movies.head(10)) # It will give first 10 movies"
   ]
  },
  {
   "cell_type": "code",
   "execution_count": 10,
   "metadata": {},
   "outputs": [
    {
     "name": "stdout",
     "output_type": "stream",
     "text": [
      "                                        lead\n",
      "movie                                       \n",
      "Raaz (2002 film)                  Dino Morea\n",
      "Zameen (2003 film)                Ajay Devgn\n",
      "Waisa Bhi Hota Hai Part II      Arshad Warsi\n",
      "Devdas (2002 Hindi film)      Shah Rukh Khan\n",
      "Kaante                      Amitabh Bachchan\n",
      "Hum Tumhare Hain Sanam        Shah Rukh Khan\n",
      "Aankhen (2002 film)         Amitabh Bachchan\n",
      "Saathiya (film)                 Vivek Oberoi\n",
      "Company (film)                    Ajay Devgn\n",
      "Awara Paagal Deewana            Akshay Kumar\n"
     ]
    }
   ],
   "source": [
    "import pandas as pd\n",
    "\n",
    "print(movies.tail(10)) # It will give last 10 movies"
   ]
  },
  {
   "cell_type": "code",
   "execution_count": 8,
   "metadata": {},
   "outputs": [
    {
     "name": "stdout",
     "output_type": "stream",
     "text": [
      "                                  movie                  lead\n",
      "0              Uri: The Surgical Strike         Vicky Kaushal\n",
      "1                         Battalion 609           Vicky Ahuja\n",
      "2  The Accidental Prime Minister (film)           Anupam Kher\n",
      "3                       Why Cheat India         Emraan Hashmi\n",
      "4                       Evening Shadows      Mona Ambegaonkar\n",
      "5                           Soni (film)  Geetika Vidya Ohlyan\n",
      "6                         Fraud Saiyaan          Arshad Warsi\n",
      "7                            Bombairiya          Radhika Apte\n",
      "8      Manikarnika: The Queen of Jhansi        Kangana Ranaut\n",
      "9                      Thackeray (film)   Nawazuddin Siddiqui\n"
     ]
    }
   ],
   "source": [
    "import pandas as pd\n",
    "\n",
    "df=pd.read_csv(\"bollywood.csv\")\n",
    "movies = df.squeeze()\n",
    "print(movies.head(10))"
   ]
  },
  {
   "cell_type": "code",
   "execution_count": 9,
   "metadata": {},
   "outputs": [
    {
     "name": "stdout",
     "output_type": "stream",
     "text": [
      "Vicky Kaushal\n",
      "Geetika Vidya Ohlyan\n",
      "Akshay Kumar\n"
     ]
    }
   ],
   "source": [
    "import pandas as pd\n",
    "\n",
    "df=pd.read_csv(\"bollywood.csv\", index_col='movie')\n",
    "movies = df.squeeze()\n",
    "print(movies[0])\n",
    "print(movies[5])\n",
    "print(movies[\"Awara Paagal Deewana\"])"
   ]
  },
  {
   "cell_type": "code",
   "execution_count": 10,
   "metadata": {},
   "outputs": [
    {
     "name": "stdout",
     "output_type": "stream",
     "text": [
      "movie\n",
      "Uri: The Surgical Strike                   Vicky Kaushal\n",
      "Battalion 609                                Vicky Ahuja\n",
      "The Accidental Prime Minister (film)         Anupam Kher\n",
      "Why Cheat India                            Emraan Hashmi\n",
      "Evening Shadows                         Mona Ambegaonkar\n",
      "Name: lead, dtype: object\n"
     ]
    }
   ],
   "source": [
    "import pandas as pd\n",
    "\n",
    "df=pd.read_csv(\"bollywood.csv\", index_col='movie')\n",
    "movies = df.squeeze()\n",
    "print(movies[0:5])"
   ]
  },
  {
   "cell_type": "code",
   "execution_count": 11,
   "metadata": {},
   "outputs": [
    {
     "name": "stdout",
     "output_type": "stream",
     "text": [
      "                                   movie                  lead\n",
      "0               Uri: The Surgical Strike         Vicky Kaushal\n",
      "2   The Accidental Prime Minister (film)           Anupam Kher\n",
      "4                        Evening Shadows      Mona Ambegaonkar\n",
      "6                          Fraud Saiyaan          Arshad Warsi\n",
      "8       Manikarnika: The Queen of Jhansi        Kangana Ranaut\n",
      "10                                Amavas             Ali Asgar\n",
      "12                             Hum Chaar           Prit Kamani\n",
      "14                            Sonchiriya  Sushant Singh Rajput\n",
      "16                Mard Ko Dard Nahi Hota      Abhimanyu Dasani\n",
      "18                     Photograph (film)   Nawazuddin Siddiqui\n"
     ]
    }
   ],
   "source": [
    "import pandas as pd\n",
    "\n",
    "df=pd.read_csv(\"bollywood.csv\")\n",
    "movies = df.squeeze()\n",
    "print(movies[0:20:2])"
   ]
  },
  {
   "cell_type": "code",
   "execution_count": 12,
   "metadata": {},
   "outputs": [
    {
     "name": "stdout",
     "output_type": "stream",
     "text": [
      "                       movie              lead\n",
      "1495  Hum Tumhare Hain Sanam    Shah Rukh Khan\n",
      "1496     Aankhen (2002 film)  Amitabh Bachchan\n",
      "1497         Saathiya (film)      Vivek Oberoi\n",
      "1498          Company (film)        Ajay Devgn\n",
      "1499    Awara Paagal Deewana      Akshay Kumar\n"
     ]
    }
   ],
   "source": [
    "import pandas as pd\n",
    "\n",
    "df=pd.read_csv(\"bollywood.csv\")\n",
    "movies = df.squeeze()\n",
    "print(movies[-5:])"
   ]
  },
  {
   "cell_type": "code",
   "execution_count": 13,
   "metadata": {},
   "outputs": [
    {
     "name": "stdout",
     "output_type": "stream",
     "text": [
      "                       movie              lead\n",
      "1495  Hum Tumhare Hain Sanam    Shah Rukh Khan\n",
      "1496     Aankhen (2002 film)  Amitabh Bachchan\n",
      "1497         Saathiya (film)      Vivek Oberoi\n",
      "1498          Company (film)        Ajay Devgn\n"
     ]
    }
   ],
   "source": [
    "import pandas as pd\n",
    "\n",
    "df=pd.read_csv(\"bollywood.csv\")\n",
    "movies = df.squeeze()\n",
    "print(movies[-5:-1])"
   ]
  }
 ],
 "metadata": {
  "kernelspec": {
   "display_name": "Python 3 (ipykernel)",
   "language": "python",
   "name": "python3"
  },
  "language_info": {
   "codemirror_mode": {
    "name": "ipython",
    "version": 3
   },
   "file_extension": ".py",
   "mimetype": "text/x-python",
   "name": "python",
   "nbconvert_exporter": "python",
   "pygments_lexer": "ipython3",
   "version": "3.11.5"
  }
 },
 "nbformat": 4,
 "nbformat_minor": 4
}
